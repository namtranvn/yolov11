{
 "cells": [
  {
   "cell_type": "code",
   "execution_count": 1,
   "id": "bfe293b8-1ea4-486b-80b5-145da95236bb",
   "metadata": {},
   "outputs": [],
   "source": [
    "import cv2\n",
    "\n",
    "from ultralytics import YOLO\n",
    "from ultralytics.utils.plotting import Annotator, colors\n",
    "\n",
    "model = YOLO(\"./weights/yolo11x.pt\")\n",
    "names = model.names\n",
    "\n",
    "cap = cv2.VideoCapture(\"./data/video3.mp4\")"
   ]
  },
  {
   "cell_type": "code",
   "execution_count": 4,
   "id": "8bd3a064-5539-4d49-aeae-5c1f3acb33f5",
   "metadata": {},
   "outputs": [],
   "source": [
    "from PIL import Image"
   ]
  },
  {
   "cell_type": "code",
   "execution_count": null,
   "id": "656cee26-438e-44cd-adfc-748aa0dbc8c6",
   "metadata": {},
   "outputs": [],
   "source": []
  },
  {
   "cell_type": "code",
   "execution_count": 2,
   "id": "f66d9834-b08b-4357-8139-7c15cd3dd4cd",
   "metadata": {},
   "outputs": [],
   "source": [
    "cap.set(1, 2)\n",
    "res, frame = cap.read() #frame has your pixel values\n",
    "\n",
    "#Get frame height and width to access pixels\n",
    "height, width, channels = frame.shape"
   ]
  },
  {
   "cell_type": "code",
   "execution_count": 3,
   "id": "e6e14c05-8671-4738-a505-5fd413058352",
   "metadata": {},
   "outputs": [
    {
     "data": {
      "text/plain": [
       "array([[[ 55,  57,  59],\n",
       "        [ 58,  60,  62],\n",
       "        [ 62,  64,  66],\n",
       "        ...,\n",
       "        [153, 159, 163],\n",
       "        [153, 159, 163],\n",
       "        [153, 159, 163]],\n",
       "\n",
       "       [[ 54,  56,  58],\n",
       "        [ 57,  59,  61],\n",
       "        [ 62,  64,  66],\n",
       "        ...,\n",
       "        [153, 159, 163],\n",
       "        [153, 159, 163],\n",
       "        [153, 159, 163]],\n",
       "\n",
       "       [[ 49,  51,  53],\n",
       "        [ 54,  56,  58],\n",
       "        [ 58,  60,  62],\n",
       "        ...,\n",
       "        [150, 156, 160],\n",
       "        [150, 156, 160],\n",
       "        [150, 156, 160]],\n",
       "\n",
       "       ...,\n",
       "\n",
       "       [[192, 199, 200],\n",
       "        [193, 200, 201],\n",
       "        [195, 202, 203],\n",
       "        ...,\n",
       "        [ 34,  34, 181],\n",
       "        [ 33,  33, 180],\n",
       "        [ 33,  33, 180]],\n",
       "\n",
       "       [[193, 200, 201],\n",
       "        [194, 201, 202],\n",
       "        [196, 203, 204],\n",
       "        ...,\n",
       "        [ 34,  34, 181],\n",
       "        [ 34,  34, 181],\n",
       "        [ 33,  33, 180]],\n",
       "\n",
       "       [[193, 200, 201],\n",
       "        [195, 202, 203],\n",
       "        [196, 203, 204],\n",
       "        ...,\n",
       "        [ 34,  34, 181],\n",
       "        [ 34,  34, 181],\n",
       "        [ 33,  33, 180]]], dtype=uint8)"
      ]
     },
     "execution_count": 3,
     "metadata": {},
     "output_type": "execute_result"
    }
   ],
   "source": [
    "frame"
   ]
  },
  {
   "cell_type": "code",
   "execution_count": null,
   "id": "24b5c38f-654a-4c55-a735-cd968f5453d5",
   "metadata": {},
   "outputs": [],
   "source": [
    "assert cap.isOpened(), \"Error reading video file\"\n",
    "w, h, fps = (int(cap.get(x)) for x in (cv2.CAP_PROP_FRAME_WIDTH, cv2.CAP_PROP_FRAME_HEIGHT, cv2.CAP_PROP_FPS))"
   ]
  },
  {
   "cell_type": "code",
   "execution_count": 3,
   "id": "13f1c93c-8135-4510-8f1d-18d800c0dafb",
   "metadata": {},
   "outputs": [
    {
     "data": {
      "text/plain": [
       "(1080, 1920, 29)"
      ]
     },
     "execution_count": 3,
     "metadata": {},
     "output_type": "execute_result"
    }
   ],
   "source": [
    "w, h, fps"
   ]
  },
  {
   "cell_type": "code",
   "execution_count": null,
   "id": "e7c7eb21-1977-4164-8cd0-f1c687cb4305",
   "metadata": {},
   "outputs": [],
   "source": []
  },
  {
   "cell_type": "code",
   "execution_count": null,
   "id": "0e7eee68-8a4a-401b-bb1e-e4537e438baf",
   "metadata": {},
   "outputs": [],
   "source": []
  },
  {
   "cell_type": "code",
   "execution_count": null,
   "id": "e63505c5-a2f2-4df7-8dba-a902b766605f",
   "metadata": {},
   "outputs": [],
   "source": [
    "# Blur ratio\n",
    "blur_ratio = 50\n",
    "\n",
    "# Video writer\n",
    "video_writer = cv2.VideoWriter(\"object_blurring_output.avi\", cv2.VideoWriter_fourcc(*\"mp4v\"), fps, (w, h))\n",
    "\n",
    "while cap.isOpened():\n",
    "    success, im0 = cap.read()\n",
    "    if not success:\n",
    "        print(\"Video frame is empty or video processing has been successfully completed.\")\n",
    "        break\n",
    "\n",
    "    results = model.predict(im0, show=False)\n",
    "    boxes = results[0].boxes.xyxy.cpu().tolist()\n",
    "    clss = results[0].boxes.cls.cpu().tolist()\n",
    "    annotator = Annotator(im0, line_width=2, example=names)\n",
    "\n",
    "    if boxes is not None:\n",
    "        for box, cls in zip(boxes, clss):\n",
    "            annotator.box_label(box, color=colors(int(cls), True), label=names[int(cls)])\n",
    "\n",
    "            obj = im0[int(box[1]) : int(box[3]), int(box[0]) : int(box[2])]\n",
    "            blur_obj = cv2.blur(obj, (blur_ratio, blur_ratio))\n",
    "\n",
    "            im0[int(box[1]) : int(box[3]), int(box[0]) : int(box[2])] = blur_obj\n",
    "\n",
    "    cv2.imshow(\"ultralytics\", im0)\n",
    "    video_writer.write(im0)\n",
    "    if cv2.waitKey(1) & 0xFF == ord(\"q\"):\n",
    "        break\n",
    "\n",
    "cap.release()\n",
    "video_writer.release()\n",
    "cv2.destroyAllWindows()"
   ]
  }
 ],
 "metadata": {
  "kernelspec": {
   "display_name": "Python 3 (ipykernel)",
   "language": "python",
   "name": "python3"
  },
  "language_info": {
   "codemirror_mode": {
    "name": "ipython",
    "version": 3
   },
   "file_extension": ".py",
   "mimetype": "text/x-python",
   "name": "python",
   "nbconvert_exporter": "python",
   "pygments_lexer": "ipython3",
   "version": "3.11.7"
  }
 },
 "nbformat": 4,
 "nbformat_minor": 5
}
